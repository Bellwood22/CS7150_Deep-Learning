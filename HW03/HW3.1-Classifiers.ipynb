{
 "cells": [
  {
   "cell_type": "markdown",
   "metadata": {
    "id": "3d326d7d"
   },
   "source": [
    "This can be run [run on Google Colab using this link](https://colab.research.google.com/github/CS7150/CS7150-Homework_3/blob/main/HW3.1-Classifiers.ipynb)"
   ]
  },
  {
   "cell_type": "markdown",
   "metadata": {
    "id": "4dd40e9d"
   },
   "source": [
    "## MNIST Classifiers (Convolutional Neural Networks and Fully Connected Networks)"
   ]
  },
  {
   "cell_type": "markdown",
   "metadata": {
    "id": "ea20290e"
   },
   "source": [
    "<b>Optional</b>: Installing Wandb to see cool analysis of you code. You can go through the documentation here. We will do it for this assignment to get a taste of the GPU and CPU utilizations. If this is creating problems to your code, please comment out all the wandb lines from the notebook"
   ]
  },
  {
   "cell_type": "code",
   "execution_count": 1,
   "metadata": {
    "colab": {
     "base_uri": "https://localhost:8080/"
    },
    "executionInfo": {
     "elapsed": 28125,
     "status": "ok",
     "timestamp": 1697043069801,
     "user": {
      "displayName": "Hwijong Im",
      "userId": "08386307815960807026"
     },
     "user_tz": 240
    },
    "id": "0f63cd31",
    "outputId": "e8f82612-ffa4-47c5-e26c-87dafd5e20ad"
   },
   "outputs": [
    {
     "name": "stdout",
     "output_type": "stream",
     "text": [
      "Requirement already satisfied: wandb in /usr/local/lib/python3.10/dist-packages (0.15.12)\n",
      "Requirement already satisfied: Click!=8.0.0,>=7.1 in /usr/local/lib/python3.10/dist-packages (from wandb) (8.1.7)\n",
      "Requirement already satisfied: GitPython!=3.1.29,>=1.0.0 in /usr/local/lib/python3.10/dist-packages (from wandb) (3.1.37)\n",
      "Requirement already satisfied: requests<3,>=2.0.0 in /usr/local/lib/python3.10/dist-packages (from wandb) (2.31.0)\n",
      "Requirement already satisfied: psutil>=5.0.0 in /usr/local/lib/python3.10/dist-packages (from wandb) (5.9.5)\n",
      "Requirement already satisfied: sentry-sdk>=1.0.0 in /usr/local/lib/python3.10/dist-packages (from wandb) (1.32.0)\n",
      "Requirement already satisfied: docker-pycreds>=0.4.0 in /usr/local/lib/python3.10/dist-packages (from wandb) (0.4.0)\n",
      "Requirement already satisfied: PyYAML in /usr/local/lib/python3.10/dist-packages (from wandb) (6.0.1)\n",
      "Requirement already satisfied: pathtools in /usr/local/lib/python3.10/dist-packages (from wandb) (0.1.2)\n",
      "Requirement already satisfied: setproctitle in /usr/local/lib/python3.10/dist-packages (from wandb) (1.3.3)\n",
      "Requirement already satisfied: setuptools in /usr/local/lib/python3.10/dist-packages (from wandb) (67.7.2)\n",
      "Requirement already satisfied: appdirs>=1.4.3 in /usr/local/lib/python3.10/dist-packages (from wandb) (1.4.4)\n",
      "Requirement already satisfied: protobuf!=4.21.0,<5,>=3.19.0 in /usr/local/lib/python3.10/dist-packages (from wandb) (3.20.3)\n",
      "Requirement already satisfied: six>=1.4.0 in /usr/local/lib/python3.10/dist-packages (from docker-pycreds>=0.4.0->wandb) (1.16.0)\n",
      "Requirement already satisfied: gitdb<5,>=4.0.1 in /usr/local/lib/python3.10/dist-packages (from GitPython!=3.1.29,>=1.0.0->wandb) (4.0.10)\n",
      "Requirement already satisfied: charset-normalizer<4,>=2 in /usr/local/lib/python3.10/dist-packages (from requests<3,>=2.0.0->wandb) (3.3.0)\n",
      "Requirement already satisfied: idna<4,>=2.5 in /usr/local/lib/python3.10/dist-packages (from requests<3,>=2.0.0->wandb) (3.4)\n",
      "Requirement already satisfied: urllib3<3,>=1.21.1 in /usr/local/lib/python3.10/dist-packages (from requests<3,>=2.0.0->wandb) (2.0.6)\n",
      "Requirement already satisfied: certifi>=2017.4.17 in /usr/local/lib/python3.10/dist-packages (from requests<3,>=2.0.0->wandb) (2023.7.22)\n",
      "Requirement already satisfied: smmap<6,>=3.0.1 in /usr/local/lib/python3.10/dist-packages (from gitdb<5,>=4.0.1->GitPython!=3.1.29,>=1.0.0->wandb) (5.0.1)\n",
      "Requirement already satisfied: torchinfo in /usr/local/lib/python3.10/dist-packages (1.8.0)\n"
     ]
    }
   ],
   "source": [
    "# Uncomment the below line to install wandb (optinal)\n",
    "!pip install wandb\n",
    "# Uncomment the below line to install torchinfo (https://github.com/TylerYep/torchinfo) [Mandatory]\n",
    "!pip install torchinfo"
   ]
  },
  {
   "cell_type": "code",
   "execution_count": 2,
   "metadata": {
    "colab": {
     "base_uri": "https://localhost:8080/"
    },
    "executionInfo": {
     "elapsed": 942,
     "status": "ok",
     "timestamp": 1697043070740,
     "user": {
      "displayName": "Hwijong Im",
      "userId": "08386307815960807026"
     },
     "user_tz": 240
    },
    "id": "8211a22f",
    "outputId": "2d6130e9-6016-43ad-a784-ad8f97df8bbd"
   },
   "outputs": [
    {
     "name": "stderr",
     "output_type": "stream",
     "text": [
      "--2023-10-11 16:51:09--  https://cs7150.baulab.info/2022-Fall/data/mnist-classify.pth\n",
      "Resolving cs7150.baulab.info (cs7150.baulab.info)... 35.232.255.106\n",
      "Connecting to cs7150.baulab.info (cs7150.baulab.info)|35.232.255.106|:443... connected.\n",
      "HTTP request sent, awaiting response... 304 Not Modified\n",
      "File ‘mnist-classify.pth’ not modified on server. Omitting download.\n",
      "\n"
     ]
    }
   ],
   "source": [
    "%%bash\n",
    "\n",
    "wget -N https://cs7150.baulab.info/2022-Fall/data/mnist-classify.pth"
   ]
  },
  {
   "cell_type": "code",
   "execution_count": 3,
   "metadata": {
    "executionInfo": {
     "elapsed": 3740,
     "status": "ok",
     "timestamp": 1697043074470,
     "user": {
      "displayName": "Hwijong Im",
      "userId": "08386307815960807026"
     },
     "user_tz": 240
    },
    "id": "621c2c89",
    "scrolled": true
   },
   "outputs": [],
   "source": [
    "# Importing libraries\n",
    "import matplotlib.pyplot as plt\n",
    "\n",
    "import torch\n",
    "import torchvision\n",
    "from torchvision import transforms\n",
    "from torch.utils.data import DataLoader,random_split,Subset\n",
    "from torch import nn\n",
    "import torch.nn.functional as F\n",
    "import torch.optim as optim\n",
    "from torchinfo import summary\n",
    "import numpy as np\n",
    "import datetime\n",
    "\n",
    "from typing import List\n",
    "from collections import OrderedDict\n",
    "import math"
   ]
  },
  {
   "cell_type": "code",
   "execution_count": 4,
   "metadata": {
    "colab": {
     "base_uri": "https://localhost:8080/",
     "height": 144
    },
    "executionInfo": {
     "elapsed": 6834,
     "status": "ok",
     "timestamp": 1697043081302,
     "user": {
      "displayName": "Hwijong Im",
      "userId": "08386307815960807026"
     },
     "user_tz": 240
    },
    "id": "e05fd6b2",
    "outputId": "8af4d00c-fb0a-49e9-8b53-5eb42bba37df"
   },
   "outputs": [
    {
     "name": "stderr",
     "output_type": "stream",
     "text": [
      "\u001b[34m\u001b[1mwandb\u001b[0m: Currently logged in as: \u001b[33mbellwood22\u001b[0m (\u001b[33mbellwood2\u001b[0m). Use \u001b[1m`wandb login --relogin`\u001b[0m to force relogin\n"
     ]
    },
    {
     "data": {
      "text/html": [
       "Tracking run with wandb version 0.15.12"
      ],
      "text/plain": [
       "<IPython.core.display.HTML object>"
      ]
     },
     "metadata": {},
     "output_type": "display_data"
    },
    {
     "data": {
      "text/html": [
       "Run data is saved locally in <code>/content/wandb/run-20231011_165118-7f75kf6v</code>"
      ],
      "text/plain": [
       "<IPython.core.display.HTML object>"
      ]
     },
     "metadata": {},
     "output_type": "display_data"
    },
    {
     "data": {
      "text/html": [
       "Syncing run <strong><a href='https://wandb.ai/bellwood2/hw3.1-ConvNets/runs/7f75kf6v' target=\"_blank\">hardy-salad-10</a></strong> to <a href='https://wandb.ai/bellwood2/hw3.1-ConvNets' target=\"_blank\">Weights & Biases</a> (<a href='https://wandb.me/run' target=\"_blank\">docs</a>)<br/>"
      ],
      "text/plain": [
       "<IPython.core.display.HTML object>"
      ]
     },
     "metadata": {},
     "output_type": "display_data"
    },
    {
     "data": {
      "text/html": [
       " View project at <a href='https://wandb.ai/bellwood2/hw3.1-ConvNets' target=\"_blank\">https://wandb.ai/bellwood2/hw3.1-ConvNets</a>"
      ],
      "text/plain": [
       "<IPython.core.display.HTML object>"
      ]
     },
     "metadata": {},
     "output_type": "display_data"
    },
    {
     "data": {
      "text/html": [
       " View run at <a href='https://wandb.ai/bellwood2/hw3.1-ConvNets/runs/7f75kf6v' target=\"_blank\">https://wandb.ai/bellwood2/hw3.1-ConvNets/runs/7f75kf6v</a>"
      ],
      "text/plain": [
       "<IPython.core.display.HTML object>"
      ]
     },
     "metadata": {},
     "output_type": "display_data"
    },
    {
     "data": {
      "text/html": [
       "<button onClick=\"this.nextSibling.style.display='block';this.style.display='none';\">Display W&B run</button><iframe src='https://wandb.ai/bellwood2/hw3.1-ConvNets/runs/7f75kf6v?jupyter=true' style='border:none;width:100%;height:420px;display:none;'></iframe>"
      ],
      "text/plain": [
       "<wandb.sdk.wandb_run.Run at 0x79ba9bb445b0>"
      ]
     },
     "execution_count": 4,
     "metadata": {},
     "output_type": "execute_result"
    }
   ],
   "source": [
    "# Create an account at https://wandb.ai/site and paste the api key here (optional)\n",
    "import wandb\n",
    "wandb.init(project=\"hw3.1-ConvNets\")"
   ]
  },
  {
   "cell_type": "markdown",
   "metadata": {
    "id": "53ab5423"
   },
   "source": [
    "### Some helper functions to view network parameters"
   ]
  },
  {
   "cell_type": "code",
   "execution_count": 5,
   "metadata": {
    "executionInfo": {
     "elapsed": 4,
     "status": "ok",
     "timestamp": 1697043081302,
     "user": {
      "displayName": "Hwijong Im",
      "userId": "08386307815960807026"
     },
     "user_tz": 240
    },
    "id": "5233e6cb"
   },
   "outputs": [],
   "source": [
    "def view_network_parameters(model):\n",
    "    # Visualise the number of parameters\n",
    "    tensor_list = list(model.state_dict().items())\n",
    "    total_parameters = 0\n",
    "    print('Model Summary\\n')\n",
    "    for layer_tensor_name, tensor in tensor_list:\n",
    "        total_parameters += int(torch.numel(tensor))\n",
    "        print('{}: {} elements'.format(layer_tensor_name, torch.numel(tensor)))\n",
    "    print(f'\\nTotal Trainable Parameters: {total_parameters}!')"
   ]
  },
  {
   "cell_type": "code",
   "execution_count": 6,
   "metadata": {
    "executionInfo": {
     "elapsed": 3,
     "status": "ok",
     "timestamp": 1697043081302,
     "user": {
      "displayName": "Hwijong Im",
      "userId": "08386307815960807026"
     },
     "user_tz": 240
    },
    "id": "13a073a7"
   },
   "outputs": [],
   "source": [
    "def view_network_shapes(model, input_shape):\n",
    "    print(summary(conv_net, input_size=input_shape))"
   ]
  },
  {
   "cell_type": "markdown",
   "metadata": {
    "id": "d140bdae"
   },
   "source": [
    "### Fully Connected Network for Image Classification\n",
    "Let's build a simple fully connected network!"
   ]
  },
  {
   "cell_type": "code",
   "execution_count": 7,
   "metadata": {
    "executionInfo": {
     "elapsed": 3,
     "status": "ok",
     "timestamp": 1697043081302,
     "user": {
      "displayName": "Hwijong Im",
      "userId": "08386307815960807026"
     },
     "user_tz": 240
    },
    "id": "ccf368fb"
   },
   "outputs": [],
   "source": [
    "def simple_fc_net():\n",
    "    model = nn.Sequential(\n",
    "        nn.Flatten(),\n",
    "        nn.Linear(1*28*28,8*28*28),\n",
    "        nn.ReLU(),\n",
    "        nn.Linear(8*28*28,16*14*14),\n",
    "        nn.ReLU(),\n",
    "        nn.Linear(16*14*14,32*7*7),\n",
    "        nn.ReLU(),\n",
    "        nn.Linear(32*7*7,288),\n",
    "        nn.ReLU(),\n",
    "        nn.Linear(288,64),\n",
    "        nn.ReLU(),\n",
    "        nn.Linear(64,10),\n",
    "        nn.LogSoftmax())\n",
    "    return model"
   ]
  },
  {
   "cell_type": "code",
   "execution_count": 8,
   "metadata": {
    "executionInfo": {
     "elapsed": 1595,
     "status": "ok",
     "timestamp": 1697043082894,
     "user": {
      "displayName": "Hwijong Im",
      "userId": "08386307815960807026"
     },
     "user_tz": 240
    },
    "id": "8306548c"
   },
   "outputs": [],
   "source": [
    "fc_net = simple_fc_net()"
   ]
  },
  {
   "cell_type": "code",
   "execution_count": 9,
   "metadata": {
    "colab": {
     "base_uri": "https://localhost:8080/"
    },
    "executionInfo": {
     "elapsed": 8,
     "status": "ok",
     "timestamp": 1697043082894,
     "user": {
      "displayName": "Hwijong Im",
      "userId": "08386307815960807026"
     },
     "user_tz": 240
    },
    "id": "f968a3c1",
    "outputId": "68ed9b99-15fd-4800-bf30-0823f345220e"
   },
   "outputs": [
    {
     "name": "stdout",
     "output_type": "stream",
     "text": [
      "Model Summary\n",
      "\n",
      "1.weight: 4917248 elements\n",
      "1.bias: 6272 elements\n",
      "3.weight: 19668992 elements\n",
      "3.bias: 3136 elements\n",
      "5.weight: 4917248 elements\n",
      "5.bias: 1568 elements\n",
      "7.weight: 451584 elements\n",
      "7.bias: 288 elements\n",
      "9.weight: 18432 elements\n",
      "9.bias: 64 elements\n",
      "11.weight: 640 elements\n",
      "11.bias: 10 elements\n",
      "\n",
      "Total Trainable Parameters: 29985482!\n"
     ]
    }
   ],
   "source": [
    "view_network_parameters(fc_net)"
   ]
  },
  {
   "cell_type": "code",
   "execution_count": 10,
   "metadata": {
    "colab": {
     "base_uri": "https://localhost:8080/"
    },
    "executionInfo": {
     "elapsed": 7,
     "status": "ok",
     "timestamp": 1697043082894,
     "user": {
      "displayName": "Hwijong Im",
      "userId": "08386307815960807026"
     },
     "user_tz": 240
    },
    "id": "83eb4838",
    "outputId": "77410994-aadf-4bb3-ccc2-3ee29c006494"
   },
   "outputs": [
    {
     "name": "stdout",
     "output_type": "stream",
     "text": [
      "Model Summary\n",
      "\n",
      "1.weight: 4917248 elements\n",
      "1.bias: 6272 elements\n",
      "3.weight: 19668992 elements\n",
      "3.bias: 3136 elements\n",
      "5.weight: 4917248 elements\n",
      "5.bias: 1568 elements\n",
      "7.weight: 451584 elements\n",
      "7.bias: 288 elements\n",
      "9.weight: 18432 elements\n",
      "9.bias: 64 elements\n",
      "11.weight: 640 elements\n",
      "11.bias: 10 elements\n",
      "\n",
      "Total Trainable Parameters: 29985482!\n"
     ]
    }
   ],
   "source": [
    "view_network_parameters(fc_net)"
   ]
  },
  {
   "cell_type": "code",
   "execution_count": 11,
   "metadata": {
    "colab": {
     "base_uri": "https://localhost:8080/"
    },
    "executionInfo": {
     "elapsed": 5,
     "status": "ok",
     "timestamp": 1697043082894,
     "user": {
      "displayName": "Hwijong Im",
      "userId": "08386307815960807026"
     },
     "user_tz": 240
    },
    "id": "a19d63c2",
    "outputId": "518fd44a-b275-4a01-97f4-a7c1e7131fa2"
   },
   "outputs": [
    {
     "name": "stderr",
     "output_type": "stream",
     "text": [
      "/usr/local/lib/python3.10/dist-packages/torch/nn/modules/container.py:217: UserWarning: Implicit dimension choice for log_softmax has been deprecated. Change the call to include dim=X as an argument.\n",
      "  input = module(input)\n"
     ]
    },
    {
     "data": {
      "text/plain": [
       "==========================================================================================\n",
       "Layer (type:depth-idx)                   Output Shape              Param #\n",
       "==========================================================================================\n",
       "Sequential                               [1, 10]                   --\n",
       "├─Flatten: 1-1                           [1, 784]                  --\n",
       "├─Linear: 1-2                            [1, 6272]                 4,923,520\n",
       "├─ReLU: 1-3                              [1, 6272]                 --\n",
       "├─Linear: 1-4                            [1, 3136]                 19,672,128\n",
       "├─ReLU: 1-5                              [1, 3136]                 --\n",
       "├─Linear: 1-6                            [1, 1568]                 4,918,816\n",
       "├─ReLU: 1-7                              [1, 1568]                 --\n",
       "├─Linear: 1-8                            [1, 288]                  451,872\n",
       "├─ReLU: 1-9                              [1, 288]                  --\n",
       "├─Linear: 1-10                           [1, 64]                   18,496\n",
       "├─ReLU: 1-11                             [1, 64]                   --\n",
       "├─Linear: 1-12                           [1, 10]                   650\n",
       "├─LogSoftmax: 1-13                       [1, 10]                   --\n",
       "==========================================================================================\n",
       "Total params: 29,985,482\n",
       "Trainable params: 29,985,482\n",
       "Non-trainable params: 0\n",
       "Total mult-adds (M): 29.99\n",
       "==========================================================================================\n",
       "Input size (MB): 0.00\n",
       "Forward/backward pass size (MB): 0.09\n",
       "Params size (MB): 119.94\n",
       "Estimated Total Size (MB): 120.04\n",
       "=========================================================================================="
      ]
     },
     "execution_count": 11,
     "metadata": {},
     "output_type": "execute_result"
    }
   ],
   "source": [
    "from torchinfo import summary\n",
    "summary(fc_net, input_size=(1, 1, 28,28))"
   ]
  },
  {
   "cell_type": "markdown",
   "metadata": {
    "id": "25cfc411"
   },
   "source": [
    "<b>Exercise</b>: Now try to add different layers and see how the network parameters vary. Does adding layers reduce the parameters? Does the number of hidden neurons in the layers affect the total trainable parameters?\n",
    "\n",
    "<i>Add a few sentences on your observations while using various architectures</i>"
   ]
  },
  {
   "cell_type": "code",
   "execution_count": 12,
   "metadata": {
    "executionInfo": {
     "elapsed": 3,
     "status": "ok",
     "timestamp": 1697043082894,
     "user": {
      "displayName": "Hwijong Im",
      "userId": "08386307815960807026"
     },
     "user_tz": 240
    },
    "id": "2775c829"
   },
   "outputs": [],
   "source": [
    "#Please type your answer here ...\n",
    "\"\"\"\n",
    "Increasing the number of layers lead to increase the number of neurons. Therefore, the number of parameters increases.\n",
    "\"\"\"\n",
    "def changed_fc_net():\n",
    "    model = nn.Sequential(\n",
    "        nn.Flatten(),\n",
    "        nn.Linear(1*28*28,8*28*28),\n",
    "        nn.ReLU(),\n",
    "        nn.Linear(8*28*28,4*28*28),\n",
    "        nn.ReLU(),\n",
    "        nn.Linear(4*28*28,16*14*14),\n",
    "        nn.ReLU(),\n",
    "        nn.Linear(16*14*14,32*7*7),\n",
    "        nn.ReLU(),\n",
    "        nn.Linear(32*7*7,288),\n",
    "        nn.ReLU(),\n",
    "        nn.Linear(288,144),\n",
    "        nn.ReLU(),\n",
    "        nn.Linear(144,64),\n",
    "        nn.ReLU(),\n",
    "        nn.Linear(64,10),\n",
    "        nn.LogSoftmax())\n",
    "    return model"
   ]
  },
  {
   "cell_type": "code",
   "execution_count": 13,
   "metadata": {
    "executionInfo": {
     "elapsed": 791,
     "status": "ok",
     "timestamp": 1697043083682,
     "user": {
      "displayName": "Hwijong Im",
      "userId": "08386307815960807026"
     },
     "user_tz": 240
    },
    "id": "0xHPEZVrTElf"
   },
   "outputs": [],
   "source": [
    "fc_net = changed_fc_net()"
   ]
  },
  {
   "cell_type": "code",
   "execution_count": 14,
   "metadata": {
    "colab": {
     "base_uri": "https://localhost:8080/"
    },
    "executionInfo": {
     "elapsed": 4,
     "status": "ok",
     "timestamp": 1697043083682,
     "user": {
      "displayName": "Hwijong Im",
      "userId": "08386307815960807026"
     },
     "user_tz": 240
    },
    "id": "gyWY727iTH4_",
    "outputId": "32608cd9-bf81-4b4e-c8c8-e17460cad04c"
   },
   "outputs": [
    {
     "name": "stdout",
     "output_type": "stream",
     "text": [
      "Model Summary\n",
      "\n",
      "1.weight: 4917248 elements\n",
      "1.bias: 6272 elements\n",
      "3.weight: 19668992 elements\n",
      "3.bias: 3136 elements\n",
      "5.weight: 9834496 elements\n",
      "5.bias: 3136 elements\n",
      "7.weight: 4917248 elements\n",
      "7.bias: 1568 elements\n",
      "9.weight: 451584 elements\n",
      "9.bias: 288 elements\n",
      "11.weight: 41472 elements\n",
      "11.bias: 144 elements\n",
      "13.weight: 9216 elements\n",
      "13.bias: 64 elements\n",
      "15.weight: 640 elements\n",
      "15.bias: 10 elements\n",
      "\n",
      "Total Trainable Parameters: 39855514!\n"
     ]
    }
   ],
   "source": [
    "view_network_parameters(fc_net)"
   ]
  },
  {
   "cell_type": "code",
   "execution_count": 15,
   "metadata": {
    "colab": {
     "base_uri": "https://localhost:8080/"
    },
    "executionInfo": {
     "elapsed": 467,
     "status": "ok",
     "timestamp": 1697043084147,
     "user": {
      "displayName": "Hwijong Im",
      "userId": "08386307815960807026"
     },
     "user_tz": 240
    },
    "id": "UjpvIOgBTJQ_",
    "outputId": "9def2556-d7c4-4bba-f2ec-657cf542268f"
   },
   "outputs": [
    {
     "data": {
      "text/plain": [
       "==========================================================================================\n",
       "Layer (type:depth-idx)                   Output Shape              Param #\n",
       "==========================================================================================\n",
       "Sequential                               [1, 10]                   --\n",
       "├─Flatten: 1-1                           [1, 784]                  --\n",
       "├─Linear: 1-2                            [1, 6272]                 4,923,520\n",
       "├─ReLU: 1-3                              [1, 6272]                 --\n",
       "├─Linear: 1-4                            [1, 3136]                 19,672,128\n",
       "├─ReLU: 1-5                              [1, 3136]                 --\n",
       "├─Linear: 1-6                            [1, 3136]                 9,837,632\n",
       "├─ReLU: 1-7                              [1, 3136]                 --\n",
       "├─Linear: 1-8                            [1, 1568]                 4,918,816\n",
       "├─ReLU: 1-9                              [1, 1568]                 --\n",
       "├─Linear: 1-10                           [1, 288]                  451,872\n",
       "├─ReLU: 1-11                             [1, 288]                  --\n",
       "├─Linear: 1-12                           [1, 144]                  41,616\n",
       "├─ReLU: 1-13                             [1, 144]                  --\n",
       "├─Linear: 1-14                           [1, 64]                   9,280\n",
       "├─ReLU: 1-15                             [1, 64]                   --\n",
       "├─Linear: 1-16                           [1, 10]                   650\n",
       "├─LogSoftmax: 1-17                       [1, 10]                   --\n",
       "==========================================================================================\n",
       "Total params: 39,855,514\n",
       "Trainable params: 39,855,514\n",
       "Non-trainable params: 0\n",
       "Total mult-adds (M): 39.86\n",
       "==========================================================================================\n",
       "Input size (MB): 0.00\n",
       "Forward/backward pass size (MB): 0.12\n",
       "Params size (MB): 159.42\n",
       "Estimated Total Size (MB): 159.54\n",
       "=========================================================================================="
      ]
     },
     "execution_count": 15,
     "metadata": {},
     "output_type": "execute_result"
    }
   ],
   "source": [
    "from torchinfo import summary\n",
    "summary(fc_net, input_size=(1, 1, 28,28))"
   ]
  },
  {
   "cell_type": "markdown",
   "metadata": {
    "id": "245bc885"
   },
   "source": [
    "### Convolutional Neural Network for Image Classification\n",
    "Let's build a simple CNN to classify our images.\n",
    "<b> Exercise 3.1.1:</b> In the function below please add the conv/Relu/Maxpool layers to match the shape of FC-Net. Suppose at the some layer the FC-Net has `28*28*16` dimension, we want your conv_net to have `16 X 28 X 28` shape at the same numbered layer. <br>\n",
    "<b>Extra-credit:</b> Try not to use MaxPool2d !"
   ]
  },
  {
   "cell_type": "code",
   "execution_count": 17,
   "metadata": {
    "executionInfo": {
     "elapsed": 10,
     "status": "ok",
     "timestamp": 1697043084147,
     "user": {
      "displayName": "Hwijong Im",
      "userId": "08386307815960807026"
     },
     "user_tz": 240
    },
    "id": "zJoo3lXMhMy8"
   },
   "outputs": [],
   "source": [
    "def simple_conv_net():\n",
    "    model = nn.Sequential(\n",
    "        nn.Conv2d(1,16,kernel_size=3,padding=1),\n",
    "        nn.ReLU(),\n",
    "        nn.MaxPool2d(2,2),\n",
    "        # TO-DO: Add layers below\n",
    "        # 3 (16x14x14)\n",
    "        nn.Conv2d(16,32,kernel_size=3,padding=1),\n",
    "        nn.ReLU(),\n",
    "        nn.MaxPool2d(2,2),\n",
    "        # 4 (32x7x7)\n",
    "        nn.Conv2d(32,32,kernel_size=1,padding=2,stride=2),\n",
    "        nn.ReLU(),\n",
    "        nn.MaxPool2d(2,2),\n",
    "        # TO-DO, what will your shape be after you flatten? Fill it in place of None\n",
    "        nn.Flatten(),\n",
    "        nn.Linear(288,64),\n",
    "        # Do not change the code below\n",
    "        nn.ReLU(),\n",
    "        nn.Linear(64,10),\n",
    "        nn.LogSoftmax())\n",
    "    return model"
   ]
  },
  {
   "cell_type": "code",
   "execution_count": 18,
   "metadata": {
    "executionInfo": {
     "elapsed": 10,
     "status": "ok",
     "timestamp": 1697043084147,
     "user": {
      "displayName": "Hwijong Im",
      "userId": "08386307815960807026"
     },
     "user_tz": 240
    },
    "id": "6bb06a8d"
   },
   "outputs": [],
   "source": [
    "conv_net = simple_conv_net()"
   ]
  },
  {
   "cell_type": "code",
   "execution_count": 19,
   "metadata": {
    "colab": {
     "base_uri": "https://localhost:8080/"
    },
    "executionInfo": {
     "elapsed": 9,
     "status": "ok",
     "timestamp": 1697043084147,
     "user": {
      "displayName": "Hwijong Im",
      "userId": "08386307815960807026"
     },
     "user_tz": 240
    },
    "id": "wH35RwVRg5JI",
    "outputId": "7eea8229-89d3-45c5-d38a-48ccd4a98e98"
   },
   "outputs": [
    {
     "name": "stdout",
     "output_type": "stream",
     "text": [
      "Model Summary\n",
      "\n",
      "0.weight: 144 elements\n",
      "0.bias: 16 elements\n",
      "3.weight: 4608 elements\n",
      "3.bias: 32 elements\n",
      "6.weight: 1024 elements\n",
      "6.bias: 32 elements\n",
      "10.weight: 18432 elements\n",
      "10.bias: 64 elements\n",
      "12.weight: 640 elements\n",
      "12.bias: 10 elements\n",
      "\n",
      "Total Trainable Parameters: 25002!\n"
     ]
    }
   ],
   "source": [
    "view_network_parameters(conv_net)"
   ]
  },
  {
   "cell_type": "code",
   "execution_count": 20,
   "metadata": {
    "colab": {
     "base_uri": "https://localhost:8080/"
    },
    "executionInfo": {
     "elapsed": 7,
     "status": "ok",
     "timestamp": 1697043084147,
     "user": {
      "displayName": "Hwijong Im",
      "userId": "08386307815960807026"
     },
     "user_tz": 240
    },
    "id": "49ed1786",
    "outputId": "e9e8c83c-1318-494c-85b1-778e51529d94"
   },
   "outputs": [
    {
     "name": "stdout",
     "output_type": "stream",
     "text": [
      "==========================================================================================\n",
      "Layer (type:depth-idx)                   Output Shape              Param #\n",
      "==========================================================================================\n",
      "Sequential                               [1, 10]                   --\n",
      "├─Conv2d: 1-1                            [1, 16, 28, 28]           160\n",
      "├─ReLU: 1-2                              [1, 16, 28, 28]           --\n",
      "├─MaxPool2d: 1-3                         [1, 16, 14, 14]           --\n",
      "├─Conv2d: 1-4                            [1, 32, 14, 14]           4,640\n",
      "├─ReLU: 1-5                              [1, 32, 14, 14]           --\n",
      "├─MaxPool2d: 1-6                         [1, 32, 7, 7]             --\n",
      "├─Conv2d: 1-7                            [1, 32, 6, 6]             1,056\n",
      "├─ReLU: 1-8                              [1, 32, 6, 6]             --\n",
      "├─MaxPool2d: 1-9                         [1, 32, 3, 3]             --\n",
      "├─Flatten: 1-10                          [1, 288]                  --\n",
      "├─Linear: 1-11                           [1, 64]                   18,496\n",
      "├─ReLU: 1-12                             [1, 64]                   --\n",
      "├─Linear: 1-13                           [1, 10]                   650\n",
      "├─LogSoftmax: 1-14                       [1, 10]                   --\n",
      "==========================================================================================\n",
      "Total params: 25,002\n",
      "Trainable params: 25,002\n",
      "Non-trainable params: 0\n",
      "Total mult-adds (M): 1.09\n",
      "==========================================================================================\n",
      "Input size (MB): 0.00\n",
      "Forward/backward pass size (MB): 0.16\n",
      "Params size (MB): 0.10\n",
      "Estimated Total Size (MB): 0.26\n",
      "==========================================================================================\n"
     ]
    }
   ],
   "source": [
    "view_network_shapes(conv_net, input_shape=(1,1,28,28))"
   ]
  },
  {
   "cell_type": "markdown",
   "metadata": {
    "id": "0f577403"
   },
   "source": [
    "<b>Exercise 3.1.2</b>: Why is the final layer a log softmax? What is a softmax function? Can we use ReLU instead of softmax? If yes, what would you do different? If not, tell us why. If you think there is a different answer, feel free to use this space to chart it down"
   ]
  },
  {
   "cell_type": "markdown",
   "metadata": {
    "id": "e530f3e2"
   },
   "source": [
    "Softmax is used for multiple classification of targets in the MNIST dataset, and it is necessary to use softmax for classification. This is because if we use ReLU, all negative values are returned as 0 and have no probabilistic meaning."
   ]
  },
  {
   "cell_type": "markdown",
   "metadata": {
    "id": "41ea2c8c"
   },
   "source": [
    "<b>Exercise 3.1.3</b>: What is the ratio of number of parameters of Conv-net to number of parameters of FC-Net <br>\n",
    "$\\frac{p_{conv-net}}{p_{fc-net}}$ = 74154/29985482 <br>\n",
    "Do you see the difference ?!  [Despite using the same number of layers, FC-NET has a much larger number of parameters.]"
   ]
  },
  {
   "cell_type": "markdown",
   "metadata": {
    "id": "b4c6329e"
   },
   "source": [
    "<b>Exercise 3.1.4</b>: Now try to add different layers and see how the network parameters vary. Does adding layers reduce the parameters? Does the number of hidden neurons in the layers affect the total trainable parameters? Use the `build_custom_fc_net` function given below. You do not have to understand the working of it.\n",
    "\n",
    "<i>Add a few sentences on your observations while using various architectures</i>"
   ]
  },
  {
   "cell_type": "code",
   "execution_count": 21,
   "metadata": {
    "colab": {
     "base_uri": "https://localhost:8080/"
    },
    "executionInfo": {
     "elapsed": 6,
     "status": "ok",
     "timestamp": 1697043084148,
     "user": {
      "displayName": "Hwijong Im",
      "userId": "08386307815960807026"
     },
     "user_tz": 240
    },
    "id": "b89d76f7",
    "outputId": "f04bb6b7-1ecc-4bcd-c5d3-c3cbacf7c6cd",
    "scrolled": true
   },
   "outputs": [
    {
     "name": "stdout",
     "output_type": "stream",
     "text": [
      "Model Summary\n",
      "\n",
      "linear_1.weight: 100352 elements\n",
      "linear_1.bias: 128 elements\n",
      "linear_2.weight: 8192 elements\n",
      "linear_2.bias: 64 elements\n",
      "linear_3.weight: 2048 elements\n",
      "linear_3.bias: 32 elements\n",
      "linear_4.weight: 320 elements\n",
      "linear_4.bias: 10 elements\n",
      "\n",
      "Total Trainable Parameters: 111146!\n",
      "Model Summary\n",
      "\n",
      "linear_1.weight: 200704 elements\n",
      "linear_1.bias: 256 elements\n",
      "linear_2.weight: 32768 elements\n",
      "linear_2.bias: 128 elements\n",
      "linear_3.weight: 8192 elements\n",
      "linear_3.bias: 64 elements\n",
      "linear_4.weight: 640 elements\n",
      "linear_4.bias: 10 elements\n",
      "\n",
      "Total Trainable Parameters: 242762!\n",
      "Model Summary\n",
      "\n",
      "linear_1.weight: 50176 elements\n",
      "linear_1.bias: 64 elements\n",
      "linear_2.weight: 4096 elements\n",
      "linear_2.bias: 64 elements\n",
      "linear_3.weight: 4096 elements\n",
      "linear_3.bias: 64 elements\n",
      "linear_4.weight: 640 elements\n",
      "linear_4.bias: 10 elements\n",
      "\n",
      "Total Trainable Parameters: 59210!\n"
     ]
    }
   ],
   "source": [
    "def build_custom_fc_net(inp_dim: int, out_dim: int, hidden_fc_dim: List[int]):\n",
    "    '''\n",
    "    Inputs :\n",
    "\n",
    "    inp_dim: Shape of the input dimensions (in MNIST case 28*28)\n",
    "    out_dim: Desired classification classes (in MNIST case 10)\n",
    "    hidden_fc_dim: List of the intermediate dimension shapes (list of integers). Try different values and see the shapes'\n",
    "\n",
    "    Return: nn.Sequential (final custom model)\n",
    "    '''\n",
    "    assert type(hidden_fc_dim) == list, \"Please define hidden_fc_dim as list of integers\"\n",
    "    layers = []\n",
    "    layers.append((f'flatten', nn.Flatten()))\n",
    "    # If no hidden layer is required\n",
    "    if len(hidden_fc_dim) == 0:\n",
    "        layers.append((f'linear',nn.Linear(math.prod(inp_dim),out_dim)))\n",
    "        layers.append((f'activation',nn.LogSoftmax()))\n",
    "    else:\n",
    "        # Loop over hidden dimensions and add layers\n",
    "        for idx, dim in enumerate(hidden_fc_dim):\n",
    "            if idx == 0:\n",
    "                layers.append((f'linear_{idx+1}',nn.Linear(math.prod(inp_dim),dim)))\n",
    "                layers.append((f'activation_{idx+1}',nn.ReLU()))\n",
    "            else:\n",
    "                layers.append((f'linear_{idx+1}',nn.Linear(hidden_fc_dim[idx-1],dim)))\n",
    "                layers.append((f'activation_{idx+1}',nn.ReLU()))\n",
    "        layers.append((f'linear_{idx+2}',nn.Linear(dim,out_dim)))\n",
    "        layers.append((f'activation_{idx+2}',nn.LogSoftmax()))\n",
    "\n",
    "    model =  nn.Sequential(OrderedDict(layers))\n",
    "    return model\n",
    "\n",
    "# TO-DO build different networks (atleast 3) and see the parameters\n",
    "#(You don't have to understand the function above. It is a generic way to build a FC-Net)\n",
    "\n",
    "\n",
    "fc_net_custom1 = build_custom_fc_net(inp_dim=(1,28,28), out_dim=10, hidden_fc_dim=[128,64,32])\n",
    "view_network_parameters(fc_net_custom1)\n",
    "\n",
    "# fc_net_custom2\n",
    "fc_net_custom2 = build_custom_fc_net(inp_dim=(1, 28, 28), out_dim=10, hidden_fc_dim=[256, 128, 64])\n",
    "view_network_parameters(fc_net_custom2)\n",
    "# view_network_parameters(fc_net_custom2)\n",
    "\n",
    "# fc_net_custom3\n",
    "fc_net_custom3 = build_custom_fc_net(inp_dim=(1, 28, 28), out_dim=10, hidden_fc_dim=[64, 64, 64])\n",
    "view_network_parameters(fc_net_custom3)\n",
    "# view_network_parameters(fc_net_custom3)"
   ]
  },
  {
   "cell_type": "markdown",
   "metadata": {
    "id": "71c48647"
   },
   "source": [
    "## Let's train the models to see their performace"
   ]
  },
  {
   "cell_type": "code",
   "execution_count": 22,
   "metadata": {
    "colab": {
     "base_uri": "https://localhost:8080/"
    },
    "executionInfo": {
     "elapsed": 790,
     "status": "ok",
     "timestamp": 1697043086227,
     "user": {
      "displayName": "Hwijong Im",
      "userId": "08386307815960807026"
     },
     "user_tz": 240
    },
    "id": "94ae412d",
    "outputId": "4422a4ea-fd3c-42fa-e038-9a0f1f27ae84"
   },
   "outputs": [
    {
     "name": "stdout",
     "output_type": "stream",
     "text": [
      "Datatype of the dataset object: <class 'torchvision.datasets.mnist.MNIST'>\n",
      "Number of samples in training data: 60000\n",
      "Number of samples in test data: 10000\n"
     ]
    }
   ],
   "source": [
    "# downloading mnist into folder\n",
    "data_dir = 'data' # make sure that this folder is created in your working dir\n",
    "# transform the PIL images to tensor using torchvision.transform.toTensor method\n",
    "train_data = torchvision.datasets.MNIST(data_dir, train=True, download=True, transform=torchvision.transforms.Compose([torchvision.transforms.ToTensor()]))\n",
    "test_data  = torchvision.datasets.MNIST(data_dir, train=False, download=True, transform=torchvision.transforms.Compose([torchvision.transforms.ToTensor()]))\n",
    "print(f'Datatype of the dataset object: {type(train_data)}')\n",
    "# check the length of dataset\n",
    "n_train_samples = len(train_data)\n",
    "print(f'Number of samples in training data: {len(train_data)}')\n",
    "print(f'Number of samples in test data: {len(test_data)}')\n",
    "# Check the format of dataset\n",
    "#print(f'Foramt of the dataset: \\n {train_data}')\n",
    "\n",
    "val_split = .2\n",
    "batch_size=256\n",
    "\n",
    "train_data_, val_data = random_split(train_data, [int(n_train_samples*(1-val_split)), int(n_train_samples*val_split)])\n",
    "\n",
    "train_loader = torch.utils.data.DataLoader(train_data_, batch_size=batch_size,shuffle=True)\n",
    "val_loader = torch.utils.data.DataLoader(val_data, batch_size=batch_size,shuffle=True)\n",
    "test_loader = torch.utils.data.DataLoader(test_data, batch_size=batch_size,shuffle=True)"
   ]
  },
  {
   "cell_type": "markdown",
   "metadata": {
    "id": "0b94c083"
   },
   "source": [
    "### Displaying the loaded dataset"
   ]
  },
  {
   "cell_type": "code",
   "execution_count": 23,
   "metadata": {
    "colab": {
     "base_uri": "https://localhost:8080/",
     "height": 438
    },
    "executionInfo": {
     "elapsed": 3651,
     "status": "ok",
     "timestamp": 1697043091368,
     "user": {
      "displayName": "Hwijong Im",
      "userId": "08386307815960807026"
     },
     "user_tz": 240
    },
    "id": "a6e15476",
    "outputId": "89eb557d-f73a-46fc-b770-5872a3627b9e"
   },
   "outputs": [
    {
     "data": {
      "image/png": "[encoded data removed]",
      "text/plain": [
       "<Figure size 640x480 with 6 Axes>"
      ]
     },
     "metadata": {},
     "output_type": "display_data"
    }
   ],
   "source": [
    "import matplotlib.pyplot as plt\n",
    "\n",
    "fig = plt.figure()\n",
    "for i in range(6):\n",
    "  plt.subplot(2, 3, i+1)\n",
    "  plt.tight_layout()\n",
    "  plt.imshow(train_data[i][0][0], cmap='gray', interpolation='none')\n",
    "  plt.title(\"Class Label: {}\".format(train_data[i][1]))\n",
    "  plt.xticks([])\n",
    "  plt.yticks([])"
   ]
  },
  {
   "cell_type": "markdown",
   "metadata": {
    "id": "524851bc"
   },
   "source": [
    "## Function to train the model"
   ]
  },
  {
   "cell_type": "code",
   "execution_count": 24,
   "metadata": {
    "executionInfo": {
     "elapsed": 2,
     "status": "ok",
     "timestamp": 1697043091368,
     "user": {
      "displayName": "Hwijong Im",
      "userId": "08386307815960807026"
     },
     "user_tz": 240
    },
    "id": "718c5a83"
   },
   "outputs": [],
   "source": [
    "def train_model(model, train_loader, device, loss_fn, optimizer, input_dim=(-1,1,28,28)):\n",
    "    model.train()\n",
    "    # Initiate a loss monitor\n",
    "    train_loss = []\n",
    "    # Iterate the dataloader (we do not need the label values, this is unsupervised learning and not supervised classification)\n",
    "    for images, labels in train_loader: # the variable `labels` will be used for customised training\n",
    "        # reshape input\n",
    "        images = torch.reshape(images,input_dim)\n",
    "        images = images.to(device)\n",
    "        labels = labels.to(device)\n",
    "        # predict the class\n",
    "        predicted = model(images)\n",
    "        loss = loss_fn(predicted, labels)\n",
    "        # Backward pass (back propagation)\n",
    "        optimizer.zero_grad()\n",
    "        loss.backward()\n",
    "        optimizer.step()\n",
    "        wandb.log({\"Training Loss\": loss})\n",
    "        wandb.watch(model)\n",
    "        train_loss.append(loss.detach().cpu().numpy())\n",
    "    return np.mean(train_loss)"
   ]
  },
  {
   "cell_type": "markdown",
   "metadata": {
    "id": "802d74a4"
   },
   "source": [
    "## Function to test the model"
   ]
  },
  {
   "cell_type": "code",
   "execution_count": 25,
   "metadata": {
    "executionInfo": {
     "elapsed": 266,
     "status": "ok",
     "timestamp": 1697043094126,
     "user": {
      "displayName": "Hwijong Im",
      "userId": "08386307815960807026"
     },
     "user_tz": 240
    },
    "id": "9f24a06a"
   },
   "outputs": [],
   "source": [
    "# Testing Function\n",
    "def test_model(model, test_loader, device, loss_fn, input_dim=(-1,1,28,28)):\n",
    "    # Set evaluation mode for encoder and decoder\n",
    "    model.eval()\n",
    "    with torch.no_grad(): # No need to track the gradients\n",
    "        # Define the lists to store the outputs for each batch\n",
    "        predicted = []\n",
    "        actual = []\n",
    "        for images, labels in test_loader:\n",
    "            # reshape input\n",
    "            images = torch.reshape(images,input_dim)\n",
    "            images = images.to(device)\n",
    "            labels = labels.to(device)\n",
    "            ## predict the label\n",
    "            pred = model(images)\n",
    "            # Append the network output and the original image to the lists\n",
    "            predicted.append(pred.cpu())\n",
    "            actual.append(labels.cpu())\n",
    "        # Create a single tensor with all the values in the lists\n",
    "        predicted = torch.cat(predicted)\n",
    "        actual = torch.cat(actual)\n",
    "        # Evaluate global loss\n",
    "        val_loss = loss_fn(predicted, actual)\n",
    "    return val_loss.data"
   ]
  },
  {
   "cell_type": "markdown",
   "metadata": {
    "id": "bfdd1864"
   },
   "source": [
    "Before we start training let's delete the huge FC-Net we built and build a reasonable FC-Net (You learnt why such larger networks are not reasonable in the previous notebook)"
   ]
  },
  {
   "cell_type": "code",
   "execution_count": 26,
   "metadata": {
    "executionInfo": {
     "elapsed": 2,
     "status": "ok",
     "timestamp": 1697043095648,
     "user": {
      "displayName": "Hwijong Im",
      "userId": "08386307815960807026"
     },
     "user_tz": 240
    },
    "id": "51fca7cc"
   },
   "outputs": [],
   "source": [
    "del fc_net, fc_net_custom1, fc_net_custom2, fc_net_custom3\n",
    "torch.cuda.empty_cache()\n",
    "# Building a reasonable fully connected network\n",
    "fc_net = build_custom_fc_net(inp_dim=(1,28,28), out_dim=10, hidden_fc_dim=[128,64,32])"
   ]
  },
  {
   "cell_type": "markdown",
   "metadata": {
    "id": "6bc501cf"
   },
   "source": [
    "<b>Exercise 3.1.5:</b>\n",
    "Code the `weight_init_xavier` function by referring to https://pytorch.org/docs/stable/nn.init.html. Replace the weight initializations to your own function.\n"
   ]
  },
  {
   "cell_type": "code",
   "execution_count": 27,
   "metadata": {
    "colab": {
     "base_uri": "https://localhost:8080/"
    },
    "executionInfo": {
     "elapsed": 322,
     "status": "ok",
     "timestamp": 1697043100806,
     "user": {
      "displayName": "Hwijong Im",
      "userId": "08386307815960807026"
     },
     "user_tz": 240
    },
    "id": "60636ac1",
    "outputId": "51fb71c1-f90e-4cbd-ad29-5cedd75c66e5"
   },
   "outputs": [
    {
     "name": "stdout",
     "output_type": "stream",
     "text": [
      "Selected device: cpu\n"
     ]
    }
   ],
   "source": [
    "### Set the random seed for reproducible results\n",
    "torch.manual_seed(0)\n",
    "# Choosing a device based on the env and torch setup\n",
    "device = torch.device(\"cuda\") if torch.cuda.is_available() else torch.device(\"cpu\")\n",
    "print(f'Selected device: {device}')\n",
    "\n",
    "def weight_init_zero(m):\n",
    "    if isinstance(m, nn.Linear) or isinstance(m, nn.Conv2d):\n",
    "        torch.nn.init.constant_(m.weight, 0.0)\n",
    "        m.bias.data.fill_(0.01)\n",
    "\n",
    "def weight_init_xavier(m):\n",
    "  if isinstance(m,nn.Linear) or isinstance(m,nn.Conv2d):\n",
    "    torch.nn.init.xavier_uniform_(m.weight)\n",
    "    m.bias.data.fill_(0.01)\n",
    "\n",
    "fc_net.to(device)\n",
    "conv_net.to(device)\n",
    "\n",
    "# Apply the weight initialization\n",
    "fc_net.apply(weight_init_zero)\n",
    "conv_net.apply(weight_init_zero)\n",
    "\n",
    "# Apply the xavier weight initialization\n",
    "#TO-DO: Add your function here\n",
    "fc_net.apply(weight_init_xavier)\n",
    "conv_net.apply(weight_init_xavier)\n",
    "\n",
    "# Take the parameters for optimiser\n",
    "params_to_optimize_fc = [\n",
    "    {'params': fc_net.parameters()}\n",
    "]\n",
    "\n",
    "params_to_optimize_conv = [\n",
    "    {'params': conv_net.parameters()}\n",
    "]\n",
    "### Define the loss function\n",
    "loss_fn = torch.nn.NLLLoss()\n",
    "### Define an optimizer (both for the encoder and the decoder!)\n",
    "lr= 0.001\n",
    "\n",
    "optim_fc = torch.optim.Adam(params_to_optimize_fc, lr=lr, weight_decay=1e-05)\n",
    "optim_conv = torch.optim.Adam(params_to_optimize_conv, lr=lr, weight_decay=1e-05)\n",
    "num_epochs = 30\n",
    "wandb.config = {\n",
    "  \"learning_rate\": lr,\n",
    "  \"epochs\": num_epochs,\n",
    "  \"batch_size\": batch_size\n",
    "}"
   ]
  },
  {
   "cell_type": "markdown",
   "metadata": {
    "id": "53753ff1"
   },
   "source": [
    "# Training the Convolutional Neural Networks"
   ]
  },
  {
   "cell_type": "code",
   "execution_count": 31,
   "metadata": {
    "colab": {
     "base_uri": "https://localhost:8080/"
    },
    "executionInfo": {
     "elapsed": 2158462,
     "status": "ok",
     "timestamp": 1697047241825,
     "user": {
      "displayName": "Hwijong Im",
      "userId": "08386307815960807026"
     },
     "user_tz": 240
    },
    "id": "a9616b62",
    "outputId": "d646db7c-bc4b-49e7-c908-2ec419aaf90c",
    "scrolled": true
   },
   "outputs": [
    {
     "name": "stdout",
     "output_type": "stream",
     "text": [
      "Conv Net training started\n",
      "Epoch 1/30 : train loss 1.070 \t val loss 0.504\n",
      "Epoch 2/30 : train loss 0.386 \t val loss 0.286\n",
      "Epoch 3/30 : train loss 0.266 \t val loss 0.235\n",
      "Epoch 4/30 : train loss 0.214 \t val loss 0.201\n",
      "Epoch 5/30 : train loss 0.187 \t val loss 0.168\n",
      "Epoch 6/30 : train loss 0.166 \t val loss 0.159\n",
      "Epoch 7/30 : train loss 0.149 \t val loss 0.140\n",
      "Epoch 8/30 : train loss 0.136 \t val loss 0.134\n",
      "Epoch 9/30 : train loss 0.127 \t val loss 0.124\n",
      "Epoch 10/30 : train loss 0.118 \t val loss 0.128\n",
      "Epoch 11/30 : train loss 0.112 \t val loss 0.134\n",
      "Epoch 12/30 : train loss 0.105 \t val loss 0.113\n",
      "Epoch 13/30 : train loss 0.099 \t val loss 0.115\n",
      "Epoch 14/30 : train loss 0.097 \t val loss 0.109\n",
      "Epoch 15/30 : train loss 0.090 \t val loss 0.107\n",
      "Epoch 16/30 : train loss 0.085 \t val loss 0.100\n",
      "Epoch 17/30 : train loss 0.080 \t val loss 0.124\n",
      "Epoch 18/30 : train loss 0.079 \t val loss 0.102\n",
      "Epoch 19/30 : train loss 0.074 \t val loss 0.096\n",
      "Epoch 20/30 : train loss 0.071 \t val loss 0.092\n",
      "Epoch 21/30 : train loss 0.069 \t val loss 0.095\n",
      "Epoch 22/30 : train loss 0.066 \t val loss 0.091\n",
      "Epoch 23/30 : train loss 0.062 \t val loss 0.091\n",
      "Epoch 24/30 : train loss 0.060 \t val loss 0.091\n",
      "Epoch 25/30 : train loss 0.060 \t val loss 0.086\n",
      "Epoch 26/30 : train loss 0.056 \t val loss 0.090\n",
      "Epoch 27/30 : train loss 0.057 \t val loss 0.085\n",
      "Epoch 28/30 : train loss 0.052 \t val loss 0.086\n",
      "Epoch 29/30 : train loss 0.051 \t val loss 0.096\n",
      "Epoch 30/30 : train loss 0.049 \t val loss 0.089\n",
      "Conv Net training done in 2158.184 seconds!\n"
     ]
    }
   ],
   "source": [
    "print('Conv Net training started')\n",
    "history_conv = {'train_loss':[],'val_loss':[]}\n",
    "start_time = datetime.datetime.now()\n",
    "\n",
    "for epoch in range(num_epochs):\n",
    "    ### Training\n",
    "    train_loss = train_model(\n",
    "        model=conv_net,\n",
    "        train_loader=train_loader,\n",
    "        device=device,\n",
    "        loss_fn=loss_fn,\n",
    "        optimizer=optim_conv,\n",
    "        input_dim=(-1,1,28,28))\n",
    "    ### Validation  (use the testing function)\n",
    "    val_loss = test_model(\n",
    "        model=conv_net,\n",
    "        test_loader=test_loader,\n",
    "        device=device,\n",
    "        loss_fn=loss_fn,\n",
    "        input_dim=(-1,1,28,28))\n",
    "    # Print Losses\n",
    "    print(f'Epoch {epoch+1}/{num_epochs} : train loss {train_loss:.3f} \\t val loss {val_loss:.3f}')\n",
    "    history_conv['train_loss'].append(train_loss)\n",
    "    history_conv['val_loss'].append(val_loss)\n",
    "\n",
    "\n",
    "print(f'Conv Net training done in {(datetime.datetime.now()-start_time).total_seconds():.3f} seconds!')"
   ]
  },
  {
   "cell_type": "markdown",
   "metadata": {
    "id": "f1465fbd"
   },
   "source": [
    "### Visualizing Training Progress of Conv Net (Also check out your wandb.ai homepage)"
   ]
  },
  {
   "cell_type": "code",
   "execution_count": 56,
   "metadata": {
    "colab": {
     "base_uri": "https://localhost:8080/",
     "height": 467
    },
    "executionInfo": {
     "elapsed": 617,
     "status": "ok",
     "timestamp": 1697040838485,
     "user": {
      "displayName": "Hwijong Im",
      "userId": "08386307815960807026"
     },
     "user_tz": 240
    },
    "id": "c1622763",
    "outputId": "d024f13a-61f4-4ce9-c040-36e576d2b6bf"
   },
   "outputs": [
    {
     "data": {
      "text/plain": [
       "Text(0, 0.5, 'Negative Log Likelihood Loss')"
      ]
     },
     "execution_count": 56,
     "metadata": {},
     "output_type": "execute_result"
    },
    {
     "data": {
      "image/png": "[encoded data removed]",
      "text/plain": [
       "<Figure size 640x480 with 1 Axes>"
      ]
     },
     "metadata": {},
     "output_type": "display_data"
    }
   ],
   "source": [
    "fig = plt.figure()\n",
    "plt.plot(history_conv['train_loss'], color='blue')\n",
    "plt.plot(history_conv['val_loss'], color='red')\n",
    "plt.legend(['Train Loss', 'Test Loss'], loc='upper right')\n",
    "plt.xlabel('Epochs')\n",
    "plt.ylabel('Negative Log Likelihood Loss')"
   ]
  },
  {
   "cell_type": "markdown",
   "metadata": {
    "id": "f163e64a"
   },
   "source": [
    "### Visualizing Predictions of Conv Net"
   ]
  },
  {
   "cell_type": "code",
   "execution_count": 57,
   "metadata": {
    "colab": {
     "base_uri": "https://localhost:8080/",
     "height": 483
    },
    "executionInfo": {
     "elapsed": 1365,
     "status": "ok",
     "timestamp": 1697040846860,
     "user": {
      "displayName": "Hwijong Im",
      "userId": "08386307815960807026"
     },
     "user_tz": 240
    },
    "id": "89ac3520",
    "outputId": "f8ee70e8-c68e-4013-e417-81869e0c9ae1",
    "scrolled": false
   },
   "outputs": [
    {
     "data": {
      "image/png": "[encoded data removed]",
      "text/plain": [
       "<Figure size 500x500 with 9 Axes>"
      ]
     },
     "metadata": {},
     "output_type": "display_data"
    }
   ],
   "source": [
    "examples = enumerate(test_loader)\n",
    "batch_idx, (example_data, example_targets) = next(examples)\n",
    "with torch.no_grad():\n",
    "    example_data = example_data.to(device)\n",
    "    output = conv_net(example_data)\n",
    "example_data = example_data.cpu().detach().numpy()\n",
    "fig = plt.figure(figsize=(5,5))\n",
    "for i in range(9):\n",
    "    plt.subplot(3,3,i+1)\n",
    "    plt.tight_layout()\n",
    "    plt.imshow(example_data[i][0], cmap='gray',interpolation='none')\n",
    "    plt.title(\"Prediction: {}\".format(\n",
    "    output.data.max(1, keepdim=True)[1][i].item()))\n",
    "    plt.xticks([])\n",
    "    plt.yticks([])"
   ]
  },
  {
   "cell_type": "markdown",
   "metadata": {
    "id": "eacd45fe"
   },
   "source": [
    "# Training the Fully-Connected Neural Networks\n",
    "\n",
    "<b>Exercise 3.1.6:</b> Train the fully connected neural network and analyse it"
   ]
  },
  {
   "cell_type": "code",
   "execution_count": 28,
   "metadata": {
    "colab": {
     "base_uri": "https://localhost:8080/"
    },
    "executionInfo": {
     "elapsed": 870015,
     "status": "ok",
     "timestamp": 1697043977054,
     "user": {
      "displayName": "Hwijong Im",
      "userId": "08386307815960807026"
     },
     "user_tz": 240
    },
    "id": "4ee8d12c",
    "outputId": "2f9d59e3-63c4-4fb5-8034-d374450b8716"
   },
   "outputs": [
    {
     "name": "stdout",
     "output_type": "stream",
     "text": [
      "fc Net training started\n"
     ]
    },
    {
     "name": "stderr",
     "output_type": "stream",
     "text": [
      "/usr/local/lib/python3.10/dist-packages/torch/nn/modules/container.py:217: UserWarning: Implicit dimension choice for log_softmax has been deprecated. Change the call to include dim=X as an argument.\n",
      "  input = module(input)\n"
     ]
    },
    {
     "name": "stdout",
     "output_type": "stream",
     "text": [
      "Epoch 1/30 : train loss 0.480 \t val loss 0.213\n",
      "Epoch 2/30 : train loss 0.181 \t val loss 0.150\n",
      "Epoch 3/30 : train loss 0.131 \t val loss 0.122\n",
      "Epoch 4/30 : train loss 0.101 \t val loss 0.106\n",
      "Epoch 5/30 : train loss 0.080 \t val loss 0.110\n",
      "Epoch 6/30 : train loss 0.065 \t val loss 0.093\n",
      "Epoch 7/30 : train loss 0.052 \t val loss 0.081\n",
      "Epoch 8/30 : train loss 0.044 \t val loss 0.080\n",
      "Epoch 9/30 : train loss 0.037 \t val loss 0.086\n",
      "Epoch 10/30 : train loss 0.031 \t val loss 0.080\n",
      "Epoch 11/30 : train loss 0.026 \t val loss 0.101\n",
      "Epoch 12/30 : train loss 0.025 \t val loss 0.093\n",
      "Epoch 13/30 : train loss 0.019 \t val loss 0.084\n",
      "Epoch 14/30 : train loss 0.014 \t val loss 0.085\n",
      "Epoch 15/30 : train loss 0.016 \t val loss 0.137\n",
      "Epoch 16/30 : train loss 0.017 \t val loss 0.087\n",
      "Epoch 17/30 : train loss 0.011 \t val loss 0.101\n",
      "Epoch 18/30 : train loss 0.009 \t val loss 0.095\n",
      "Epoch 19/30 : train loss 0.010 \t val loss 0.102\n",
      "Epoch 20/30 : train loss 0.007 \t val loss 0.093\n",
      "Epoch 21/30 : train loss 0.005 \t val loss 0.099\n",
      "Epoch 22/30 : train loss 0.006 \t val loss 0.106\n",
      "Epoch 23/30 : train loss 0.005 \t val loss 0.105\n",
      "Epoch 24/30 : train loss 0.007 \t val loss 0.117\n",
      "Epoch 25/30 : train loss 0.017 \t val loss 0.118\n",
      "Epoch 26/30 : train loss 0.009 \t val loss 0.107\n",
      "Epoch 27/30 : train loss 0.004 \t val loss 0.111\n",
      "Epoch 28/30 : train loss 0.004 \t val loss 0.103\n",
      "Epoch 29/30 : train loss 0.002 \t val loss 0.106\n",
      "Epoch 30/30 : train loss 0.006 \t val loss 0.139\n",
      "fc Net training done in 869.595 seconds!\n"
     ]
    }
   ],
   "source": [
    "#TO-DO:Train the fc_net here\n",
    "print('fc Net training started')\n",
    "history_fc = {'train_loss':[],'val_loss':[]}\n",
    "start_time = datetime.datetime.now()\n",
    "\n",
    "for epoch in range(num_epochs):\n",
    "    ### Training\n",
    "    train_loss = train_model(\n",
    "        model=fc_net,\n",
    "        train_loader=train_loader,\n",
    "        device=device,\n",
    "        loss_fn=loss_fn,\n",
    "        optimizer=optim_fc,\n",
    "        input_dim=(-1,1,28,28))\n",
    "    ### Validation  (use the testing function)\n",
    "    val_loss = test_model(\n",
    "        model=fc_net,\n",
    "        test_loader=test_loader,\n",
    "        device=device,\n",
    "        loss_fn=loss_fn,\n",
    "        input_dim=(-1,1,28,28))\n",
    "    # Print Losses\n",
    "    print(f'Epoch {epoch+1}/{num_epochs} : train loss {train_loss:.3f} \\t val loss {val_loss:.3f}')\n",
    "    history_fc['train_loss'].append(train_loss)\n",
    "    history_fc['val_loss'].append(val_loss)\n",
    "\n",
    "\n",
    "print(f'fc Net training done in {(datetime.datetime.now()-start_time).total_seconds():.3f} seconds!')"
   ]
  },
  {
   "cell_type": "markdown",
   "metadata": {
    "id": "b4c5cd18"
   },
   "source": [
    "## Visualizing Training Progress of FC Net (Check out your wandb.ai project webpage)"
   ]
  },
  {
   "cell_type": "code",
   "execution_count": 29,
   "metadata": {
    "colab": {
     "base_uri": "https://localhost:8080/",
     "height": 470
    },
    "executionInfo": {
     "elapsed": 381,
     "status": "ok",
     "timestamp": 1697043977417,
     "user": {
      "displayName": "Hwijong Im",
      "userId": "08386307815960807026"
     },
     "user_tz": 240
    },
    "id": "926d5e38",
    "outputId": "056d19c1-25f6-4d3f-919c-5db5db4379b0"
   },
   "outputs": [
    {
     "data": {
      "text/plain": [
       "Text(0, 0.5, 'Negative Log Likelihood Loss')"
      ]
     },
     "execution_count": 29,
     "metadata": {},
     "output_type": "execute_result"
    },
    {
     "data": {
      "image/png": "[encoded data removed]",
      "text/plain": [
       "<Figure size 640x480 with 1 Axes>"
      ]
     },
     "metadata": {},
     "output_type": "display_data"
    }
   ],
   "source": [
    "# TODO - Visualize the training progress of fc_net\n",
    "fig = plt.figure()\n",
    "plt.plot(history_fc['train_loss'], color='blue')\n",
    "plt.plot(history_fc['val_loss'], color='red')\n",
    "plt.legend(['Train Loss', 'Test Loss'], loc='upper right')\n",
    "plt.xlabel('Epochs')\n",
    "plt.ylabel('Negative Log Likelihood Loss')"
   ]
  },
  {
   "cell_type": "markdown",
   "metadata": {
    "id": "107c77be"
   },
   "source": [
    "## Visualizing Predictions of FC Net"
   ]
  },
  {
   "cell_type": "code",
   "execution_count": 30,
   "metadata": {
    "colab": {
     "base_uri": "https://localhost:8080/",
     "height": 483
    },
    "executionInfo": {
     "elapsed": 2103,
     "status": "ok",
     "timestamp": 1697043979517,
     "user": {
      "displayName": "Hwijong Im",
      "userId": "08386307815960807026"
     },
     "user_tz": 240
    },
    "id": "a6f399e8",
    "outputId": "828830cc-7347-4984-8c9b-a7fda97a650e"
   },
   "outputs": [
    {
     "data": {
      "image/png": "[encoded data removed]",
      "text/plain": [
       "<Figure size 500x500 with 9 Axes>"
      ]
     },
     "metadata": {},
     "output_type": "display_data"
    }
   ],
   "source": [
    "# TODO - Visualise the predictions of fc_net\n",
    "examples = enumerate(test_loader)\n",
    "batch_idx, (example_data, example_targets) = next(examples)\n",
    "with torch.no_grad():\n",
    "    example_data = example_data.to(device)\n",
    "    output = fc_net(example_data)\n",
    "example_data = example_data.cpu().detach().numpy()\n",
    "fig = plt.figure(figsize=(5,5))\n",
    "for i in range(9):\n",
    "    plt.subplot(3,3,i+1)\n",
    "    plt.tight_layout()\n",
    "    plt.imshow(example_data[i][0], cmap='gray',interpolation='none')\n",
    "    plt.title(\"Prediction: {}\".format(\n",
    "    output.data.max(1, keepdim=True)[1][i].item()))\n",
    "    plt.xticks([])\n",
    "    plt.yticks([])"
   ]
  },
  {
   "cell_type": "markdown",
   "metadata": {
    "id": "b2981154"
   },
   "source": [
    "<b>Exercise 3.1.7</b>: What are the training times for each of the model? Did both the models take similar times? If yes, why? Shouldn't CNN train faster given it's number of weights to train?"
   ]
  },
  {
   "cell_type": "code",
   "execution_count": null,
   "metadata": {
    "id": "3528f2d9"
   },
   "outputs": [],
   "source": [
    "#Please type your answer here ...\n",
    "\"\"\"\n",
    "Conv_net traning time: 2158.184(s)\n",
    "Fc_net training time: 869.595(s)\n",
    "The reason that Conv_net took longer to train despite having a much smaller number of parameters is that\n",
    "it does not use GPU for parallel computations. Therefore, it can take more time in the complex convolutional and maxpooling layers in Conv_net.\n",
    "\"\"\""
   ]
  },
  {
   "cell_type": "markdown",
   "metadata": {
    "id": "b33605f1"
   },
   "source": [
    "## Let's see how the models perform under translation"
   ]
  },
  {
   "cell_type": "markdown",
   "metadata": {
    "id": "7a4d24b6"
   },
   "source": [
    "In principle, one of the advantages of convolutions is that they are equivariant under translation which means that a function composed out of convolutions should invariant under translation.\n",
    "\n",
    "<b>Exercise 3.1.8</b>: In practice, however, we might not see perfect invariance under translation.  What aspect of our network leads to imperfect invariance?"
   ]
  },
  {
   "cell_type": "markdown",
   "metadata": {
    "id": "889cbdfc"
   },
   "source": [
    "The accuracy of class tends to be low when the moved image is severely deviated compared to the original image or becomes similar to another class image."
   ]
  },
  {
   "cell_type": "markdown",
   "metadata": {
    "id": "b8a0d35b"
   },
   "source": [
    "We will next measure the sensitivity  of the convolutional network to translation in practice, and we will compare it to the fully-connected version."
   ]
  },
  {
   "cell_type": "code",
   "execution_count": 32,
   "metadata": {
    "executionInfo": {
     "elapsed": 413,
     "status": "ok",
     "timestamp": 1697047525925,
     "user": {
      "displayName": "Hwijong Im",
      "userId": "08386307815960807026"
     },
     "user_tz": 240
    },
    "id": "9e8583d7"
   },
   "outputs": [],
   "source": [
    "## function to check accuracies for unit translation\n",
    "def shiftVsAccuracy(model, test_loader, device, loss_fn, shifts = 12, input_dim=(-1,1,28,28)):\n",
    "    # Set evaluation mode for encoder and decoder\n",
    "    accuracies = []\n",
    "    shifted = []\n",
    "    for i in range(-shifts,shifts):\n",
    "        model.eval()\n",
    "        correct = 0\n",
    "        total = 0\n",
    "        with torch.no_grad(): # No need to track the gradients\n",
    "            # Define the lists to store the outputs for each batch\n",
    "            predicted = []\n",
    "            actual = []\n",
    "            for images, labels in test_loader:\n",
    "                # reshape input\n",
    "                images = torch.roll(images,shifts=i, dims=2)\n",
    "                if i == 0:\n",
    "                    pass\n",
    "                elif i > 0:\n",
    "                    images[:,:,:i,:] = 0\n",
    "                else:\n",
    "                    images[:,:,i:,:] = 0\n",
    "                images = torch.reshape(images,input_dim)\n",
    "                images = images.to(device)\n",
    "                labels = labels.to(device)\n",
    "                ## predict the label\n",
    "                pred = model(images)\n",
    "                # Append the network output and the original image to the lists\n",
    "                _ , pred = torch.max(pred.data, 1)\n",
    "                total += labels.size(0)\n",
    "                correct += (pred == labels).sum().item()\n",
    "                predicted.append(pred.cpu())\n",
    "                actual.append(labels.cpu())\n",
    "            shifted.append(images[0][0].cpu())\n",
    "            acc = 100 * correct // total\n",
    "            accuracies.append(acc)\n",
    "    return accuracies,shifted"
   ]
  },
  {
   "cell_type": "code",
   "execution_count": 33,
   "metadata": {
    "colab": {
     "base_uri": "https://localhost:8080/"
    },
    "executionInfo": {
     "elapsed": 127859,
     "status": "ok",
     "timestamp": 1697047654753,
     "user": {
      "displayName": "Hwijong Im",
      "userId": "08386307815960807026"
     },
     "user_tz": 240
    },
    "id": "89576a2d",
    "outputId": "1b08c20a-22dc-4189-8c01-98239885e7da"
   },
   "outputs": [
    {
     "name": "stderr",
     "output_type": "stream",
     "text": [
      "/usr/local/lib/python3.10/dist-packages/torch/nn/modules/container.py:217: UserWarning: Implicit dimension choice for log_softmax has been deprecated. Change the call to include dim=X as an argument.\n",
      "  input = module(input)\n"
     ]
    }
   ],
   "source": [
    "accuracies,shifted = shiftVsAccuracy(\n",
    "        model=conv_net,\n",
    "        test_loader=test_loader,\n",
    "        device=device,\n",
    "        shifts=12,\n",
    "        loss_fn=loss_fn,\n",
    "        input_dim=(-1,1,28,28))"
   ]
  },
  {
   "cell_type": "code",
   "execution_count": 34,
   "metadata": {
    "colab": {
     "base_uri": "https://localhost:8080/",
     "height": 470
    },
    "executionInfo": {
     "elapsed": 348,
     "status": "ok",
     "timestamp": 1697047655086,
     "user": {
      "displayName": "Hwijong Im",
      "userId": "08386307815960807026"
     },
     "user_tz": 240
    },
    "id": "99e2b0c9",
    "outputId": "abd1b11b-773d-4a01-a3f9-2522f4335f02"
   },
   "outputs": [
    {
     "data": {
      "text/plain": [
       "Text(0.5, 1.0, 'Accuracy Vs Translation')"
      ]
     },
     "execution_count": 34,
     "metadata": {},
     "output_type": "execute_result"
    },
    {
     "data": {
      "image/png": "[encoded data removed]",
      "text/plain": [
       "<Figure size 640x480 with 1 Axes>"
      ]
     },
     "metadata": {},
     "output_type": "display_data"
    }
   ],
   "source": [
    "shifts = np.arange(-12,12)\n",
    "plt.plot(shifts,accuracies)\n",
    "plt.title('Accuracy Vs Translation')"
   ]
  },
  {
   "cell_type": "code",
   "execution_count": 35,
   "metadata": {
    "colab": {
     "base_uri": "https://localhost:8080/",
     "height": 1000
    },
    "executionInfo": {
     "elapsed": 2604,
     "status": "ok",
     "timestamp": 1697047657687,
     "user": {
      "displayName": "Hwijong Im",
      "userId": "08386307815960807026"
     },
     "user_tz": 240
    },
    "id": "b2320b45",
    "outputId": "e46e8e86-b77b-4f0f-c97b-74cf26bf496d"
   },
   "outputs": [
    {
     "data": {
      "image/png": "[encoded data removed]",
      "text/plain": [
       "<Figure size 2000x2000 with 24 Axes>"
      ]
     },
     "metadata": {},
     "output_type": "display_data"
    }
   ],
   "source": [
    "fig = plt.figure(figsize=(20,20))\n",
    "plt_num = 0\n",
    "for i in range(-12,12):\n",
    "    plt.subplot(5,6,plt_num+1)\n",
    "    plt.imshow(shifted[plt_num], cmap='gray',interpolation='none')\n",
    "    plt.title(f\"Shifted: {i} Accuracy: {accuracies[plt_num]}\")\n",
    "    plt.xticks([])\n",
    "    plt.yticks([])\n",
    "    plt_num+=1"
   ]
  },
  {
   "cell_type": "markdown",
   "metadata": {
    "id": "6b217e71"
   },
   "source": [
    "<b>Exercise 3.1.8:</b>\n",
    "Do the same for FC-Net and plot the accuracies. Is the rate of accuracy degradation same as Conv-Net? Can you justify why this happened? <br>\n",
    "Clue: You might want to look at the way convolution layers process information"
   ]
  },
  {
   "cell_type": "markdown",
   "metadata": {
    "id": "cfZCXf6A8cw6"
   },
   "source": [
    "The result between Conv_net and Fc_net is similar. The reason for this is that whether using a filter to extract image features or extracting the whole image, the weights for the distorted image are not significantly different in the end."
   ]
  },
  {
   "cell_type": "code",
   "execution_count": 36,
   "metadata": {
    "executionInfo": {
     "elapsed": 56937,
     "status": "ok",
     "timestamp": 1697047831085,
     "user": {
      "displayName": "Hwijong Im",
      "userId": "08386307815960807026"
     },
     "user_tz": 240
    },
    "id": "80b4cf9a"
   },
   "outputs": [],
   "source": [
    "# To-DO Write your code below\n",
    "accuracies,shifted = shiftVsAccuracy(\n",
    "        model=fc_net,\n",
    "        test_loader=test_loader,\n",
    "        device=device,\n",
    "        shifts=12,\n",
    "        loss_fn=loss_fn,\n",
    "        input_dim=(-1,1,28,28))"
   ]
  },
  {
   "cell_type": "code",
   "execution_count": 37,
   "metadata": {
    "colab": {
     "base_uri": "https://localhost:8080/",
     "height": 470
    },
    "executionInfo": {
     "elapsed": 375,
     "status": "ok",
     "timestamp": 1697047831457,
     "user": {
      "displayName": "Hwijong Im",
      "userId": "08386307815960807026"
     },
     "user_tz": 240
    },
    "id": "GpY0jW5_3Eal",
    "outputId": "8348c201-673a-4c00-ad17-7efc568801d0"
   },
   "outputs": [
    {
     "data": {
      "text/plain": [
       "Text(0.5, 1.0, 'Accuracy Vs Translation')"
      ]
     },
     "execution_count": 37,
     "metadata": {},
     "output_type": "execute_result"
    },
    {
     "data": {
      "image/png": "[encoded data removed]",
      "text/plain": [
       "<Figure size 640x480 with 1 Axes>"
      ]
     },
     "metadata": {},
     "output_type": "display_data"
    }
   ],
   "source": [
    "shifts = np.arange(-12,12)\n",
    "plt.plot(shifts,accuracies)\n",
    "plt.title('Accuracy Vs Translation')"
   ]
  },
  {
   "cell_type": "code",
   "execution_count": 38,
   "metadata": {
    "colab": {
     "base_uri": "https://localhost:8080/",
     "height": 1000
    },
    "executionInfo": {
     "elapsed": 5455,
     "status": "ok",
     "timestamp": 1697047836909,
     "user": {
      "displayName": "Hwijong Im",
      "userId": "08386307815960807026"
     },
     "user_tz": 240
    },
    "id": "Z5jgUJoZ3GM2",
    "outputId": "0b2efd75-b921-4fd8-ef78-964c373628b9"
   },
   "outputs": [
    {
     "data": {
      "image/png": "[encoded data removed]",
      "text/plain": [
       "<Figure size 2000x2000 with 24 Axes>"
      ]
     },
     "metadata": {},
     "output_type": "display_data"
    }
   ],
   "source": [
    "fig = plt.figure(figsize=(20,20))\n",
    "plt_num = 0\n",
    "for i in range(-12,12):\n",
    "    plt.subplot(5,6,plt_num+1)\n",
    "    plt.imshow(shifted[plt_num], cmap='gray',interpolation='none')\n",
    "    plt.title(f\"Shifted: {i} Accuracy: {accuracies[plt_num]}\")\n",
    "    plt.xticks([])\n",
    "    plt.yticks([])\n",
    "    plt_num+=1"
   ]
  },
  {
   "cell_type": "code",
   "execution_count": null,
   "metadata": {
    "id": "z9-KeGBS7gQM"
   },
   "outputs": [],
   "source": []
  }
 ],
 "metadata": {
  "colab": {
   "provenance": []
  },
  "kernelspec": {
   "display_name": "Python 3",
   "language": "python",
   "name": "python3"
  },
  "language_info": {
   "codemirror_mode": {
    "name": "ipython",
    "version": 3
   },
   "file_extension": ".py",
   "mimetype": "text/x-python",
   "name": "python",
   "nbconvert_exporter": "python",
   "pygments_lexer": "ipython3",
   "version": "3.7.6"
  }
 },
 "nbformat": 4,
 "nbformat_minor": 5
}
